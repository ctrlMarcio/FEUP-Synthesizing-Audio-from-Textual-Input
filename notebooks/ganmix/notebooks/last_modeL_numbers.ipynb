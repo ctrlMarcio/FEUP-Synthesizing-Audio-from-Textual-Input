{
 "cells": [
  {
   "cell_type": "markdown",
   "metadata": {},
   "source": [
    "# Numbers\n",
    "\n",
    "This notebook will retrieve the numbers from the model"
   ]
  },
  {
   "cell_type": "code",
   "execution_count": 1,
   "metadata": {},
   "outputs": [],
   "source": [
    "# go to upper dir\n",
    "import sys\n",
    "sys.path.append(\"..\")"
   ]
  },
  {
   "cell_type": "code",
   "execution_count": 3,
   "metadata": {},
   "outputs": [],
   "source": [
    "# get the model\n",
    "import linear_models\n",
    "import config\n",
    "\n",
    "ganmix = linear_models.GANMix.build()"
   ]
  },
  {
   "cell_type": "code",
   "execution_count": 8,
   "metadata": {},
   "outputs": [],
   "source": [
    "def count_params(model):\n",
    "    num_params = sum(p.numel() for p in model.parameters() if p.requires_grad)\n",
    "    return num_params"
   ]
  },
  {
   "cell_type": "code",
   "execution_count": 12,
   "metadata": {},
   "outputs": [
    {
     "name": "stdout",
     "output_type": "stream",
     "text": [
      "Number of trainable parameters: 22043368\n",
      "params. generator:  22043368\n",
      "Number of trainable parameters: 21914001\n",
      "params. discriminator:  21914001\n",
      "trainable params:  43957369\n",
      "Number of trainable parameters: 55376873\n",
      "total params:  99334242\n",
      "NZ:  100\n",
      "NH:  200\n",
      "Gen LR:  0.001\n",
      "Dis LR:  0.0001\n",
      "Gen scheduler step size:  10\n",
      "Gen scheduler gamma:  0.1\n",
      "Dis scheduler step size:  10\n",
      "Dis scheduler gamma:  0.1\n",
      "batch size:  8\n"
     ]
    }
   ],
   "source": [
    "# number of parameters of the generator\n",
    "params_generator = count_params(ganmix.generator)\n",
    "print(\"params. generator: \", params_generator)\n",
    "\n",
    "# number of parameters of the discriminator\n",
    "params_discriminator = count_params(ganmix.discriminator)\n",
    "print(\"params. discriminator: \", params_discriminator)\n",
    "\n",
    "# trainable params\n",
    "trainable_params = params_generator + params_discriminator\n",
    "print(\"trainable params: \", trainable_params)\n",
    "\n",
    "# total params (include VAE)\n",
    "print(\"total params: \", trainable_params + count_params(ganmix.vae))\n",
    "\n",
    "# size of NZ (noise vector)\n",
    "print(\"NZ: \", ganmix.generator.input_size)\n",
    "\n",
    "# size of NH (hidden layer)\n",
    "print(\"NH: \", ganmix.generator.hidden_size)\n",
    "\n",
    "# learning rate\n",
    "print(\"Gen LR: \", config.LEARNING_RATE_GENERATOR)\n",
    "print(\"Dis LR: \", config.LEARNING_RATE_DISCRIMINATOR)\n",
    "\n",
    "# scheduler step size and gamma\n",
    "print(\"Gen scheduler step size: \", 10)\n",
    "print(\"Gen scheduler gamma: \", 0.1)\n",
    "print(\"Dis scheduler step size: \", 10)\n",
    "print(\"Dis scheduler gamma: \", 0.1)\n",
    "\n",
    "# batch size\n",
    "print(\"batch size: \", config.BATCH_SIZE)"
   ]
  },
  {
   "cell_type": "code",
   "execution_count": 11,
   "metadata": {},
   "outputs": [
    {
     "name": "stdout",
     "output_type": "stream",
     "text": [
      "Encodings (ED, EW, EH):  (8, 128, 107)\n"
     ]
    }
   ],
   "source": [
    "# VAE numbers\n",
    "print(\"Encodings (ED, EW, EH): \", (8, 128, 107))"
   ]
  },
  {
   "cell_type": "markdown",
   "metadata": {},
   "source": [
    "## Summaries"
   ]
  },
  {
   "cell_type": "code",
   "execution_count": 13,
   "metadata": {},
   "outputs": [],
   "source": [
    "from torchsummary import summary"
   ]
  },
  {
   "cell_type": "code",
   "execution_count": 15,
   "metadata": {},
   "outputs": [
    {
     "name": "stdout",
     "output_type": "stream",
     "text": [
      "----------------------------------------------------------------\n",
      "        Layer (type)               Output Shape         Param #\n",
      "================================================================\n",
      "            Linear-1                   [8, 200]          20,200\n",
      "         LeakyReLU-2                   [8, 200]               0\n",
      "            Linear-3                [8, 109568]      22,023,168\n",
      "================================================================\n",
      "Total params: 22,043,368\n",
      "Trainable params: 22,043,368\n",
      "Non-trainable params: 0\n",
      "----------------------------------------------------------------\n",
      "Input size (MB): 0.00\n",
      "Forward/backward pass size (MB): 6.71\n",
      "Params size (MB): 84.09\n",
      "Estimated Total Size (MB): 90.80\n",
      "----------------------------------------------------------------\n"
     ]
    }
   ],
   "source": [
    "# summary of the generator\n",
    "summary(ganmix.generator, (ganmix.generator.input_size,), config.BATCH_SIZE)"
   ]
  },
  {
   "cell_type": "code",
   "execution_count": 17,
   "metadata": {},
   "outputs": [
    {
     "name": "stdout",
     "output_type": "stream",
     "text": [
      "----------------------------------------------------------------\n",
      "        Layer (type)               Output Shape         Param #\n",
      "================================================================\n",
      "           Flatten-1                [8, 109568]               0\n",
      "            Linear-2                   [8, 200]      21,913,800\n",
      "         LeakyReLU-3                   [8, 200]               0\n",
      "            Linear-4                     [8, 1]             201\n",
      "              Tanh-5                     [8, 1]               0\n",
      "================================================================\n",
      "Total params: 21,914,001\n",
      "Trainable params: 21,914,001\n",
      "Non-trainable params: 0\n",
      "----------------------------------------------------------------\n",
      "Input size (MB): 3.34\n",
      "Forward/backward pass size (MB): 6.71\n",
      "Params size (MB): 83.60\n",
      "Estimated Total Size (MB): 93.65\n",
      "----------------------------------------------------------------\n"
     ]
    }
   ],
   "source": [
    "# summary of the discriminator\n",
    "summary(ganmix.discriminator, (8, 128, 107,), config.BATCH_SIZE)"
   ]
  }
 ],
 "metadata": {
  "kernelspec": {
   "display_name": "Python 3",
   "language": "python",
   "name": "python3"
  },
  "language_info": {
   "codemirror_mode": {
    "name": "ipython",
    "version": 3
   },
   "file_extension": ".py",
   "mimetype": "text/x-python",
   "name": "python",
   "nbconvert_exporter": "python",
   "pygments_lexer": "ipython3",
   "version": "3.8.10"
  },
  "orig_nbformat": 4
 },
 "nbformat": 4,
 "nbformat_minor": 2
}
