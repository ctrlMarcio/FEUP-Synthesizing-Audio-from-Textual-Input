{
 "cells": [
  {
   "cell_type": "code",
   "execution_count": 1,
   "metadata": {},
   "outputs": [],
   "source": [
    "import sys\n",
    "sys.path.append(\"..\")"
   ]
  },
  {
   "cell_type": "code",
   "execution_count": 2,
   "metadata": {},
   "outputs": [
    {
     "name": "stderr",
     "output_type": "stream",
     "text": [
      "/home/admin/.local/lib/python3.8/site-packages/tqdm/auto.py:21: TqdmWarning: IProgress not found. Please update jupyter and ipywidgets. See https://ipywidgets.readthedocs.io/en/stable/user_install.html\n",
      "  from .autonotebook import tqdm as notebook_tqdm\n",
      "2023-08-21 13:26:45.905167: I tensorflow/core/util/port.cc:110] oneDNN custom operations are on. You may see slightly different numerical results due to floating-point round-off errors from different computation orders. To turn them off, set the environment variable `TF_ENABLE_ONEDNN_OPTS=0`.\n",
      "2023-08-21 13:26:45.952185: I tensorflow/core/platform/cpu_feature_guard.cc:182] This TensorFlow binary is optimized to use available CPU instructions in performance-critical operations.\n",
      "To enable the following instructions: AVX2 AVX512F AVX512_VNNI FMA, in other operations, rebuild TensorFlow with the appropriate compiler flags.\n",
      "2023-08-21 13:26:47.272869: W tensorflow/compiler/tf2tensorrt/utils/py_utils.cc:38] TF-TRT Warning: Could not find TensorRT\n"
     ]
    }
   ],
   "source": [
    "# import \"aataset\" (is in upper folder)\n",
    "import dataset\n",
    "import models\n",
    "import config\n",
    "from torch import nn\n",
    "# import summary\n",
    "import torch\n",
    "from torchsummary import summary"
   ]
  },
  {
   "cell_type": "code",
   "execution_count": 3,
   "metadata": {},
   "outputs": [],
   "source": [
    "# get a sample from the dataset\n",
    "dataloader = dataset.get_dataloader(batch_size=1, shuffle=False, num_workers=0)\n",
    "sample = next(iter(dataloader))\n",
    "samlpe = next(iter(dataloader))\n",
    "sample = next(iter(dataloader))\n",
    "spectrogram, caption = next(iter(dataloader))\n",
    "spectrogram = spectrogram.to(config.DEVICE)"
   ]
  },
  {
   "cell_type": "code",
   "execution_count": 4,
   "metadata": {},
   "outputs": [
    {
     "name": "stdout",
     "output_type": "stream",
     "text": [
      "torch.Size([1, 1, 513, 431])\n"
     ]
    }
   ],
   "source": [
    "print(spectrogram.shape)"
   ]
  },
  {
   "cell_type": "code",
   "execution_count": 5,
   "metadata": {},
   "outputs": [
    {
     "name": "stdout",
     "output_type": "stream",
     "text": [
      "torch.Size([1, 8, 128, 107])\n"
     ]
    }
   ],
   "source": [
    "# run spectrogram through vae encoder\n",
    "vae = models.VAE()\n",
    "\n",
    "encodings_real = vae.encode(spectrogram)\n",
    "encodings_real = encodings_real.latent_dist.mode()\n",
    "# print shape\n",
    "print(encodings_real.shape)"
   ]
  },
  {
   "cell_type": "code",
   "execution_count": 6,
   "metadata": {},
   "outputs": [
    {
     "data": {
      "text/plain": [
       "(array([1.00000e+00, 0.00000e+00, 0.00000e+00, 0.00000e+00, 0.00000e+00,\n",
       "        1.00000e+00, 0.00000e+00, 0.00000e+00, 0.00000e+00, 1.00000e+00,\n",
       "        0.00000e+00, 1.00000e+00, 1.00000e+00, 0.00000e+00, 0.00000e+00,\n",
       "        0.00000e+00, 0.00000e+00, 1.00000e+00, 0.00000e+00, 1.00000e+00,\n",
       "        3.00000e+00, 0.00000e+00, 0.00000e+00, 1.00000e+00, 0.00000e+00,\n",
       "        2.00000e+00, 0.00000e+00, 0.00000e+00, 1.00000e+00, 2.00000e+00,\n",
       "        4.00000e+00, 4.00000e+00, 4.00000e+00, 4.00000e+00, 7.00000e+00,\n",
       "        5.00000e+00, 6.00000e+00, 4.00000e+00, 9.00000e+00, 9.00000e+00,\n",
       "        1.20000e+01, 2.40000e+01, 3.50000e+01, 4.60000e+01, 6.20000e+01,\n",
       "        1.31000e+02, 2.52000e+02, 5.36000e+02, 1.53400e+03, 1.00875e+05,\n",
       "        4.49500e+03, 8.33000e+02, 2.84000e+02, 1.45000e+02, 8.60000e+01,\n",
       "        4.40000e+01, 2.70000e+01, 2.30000e+01, 1.50000e+01, 5.00000e+00,\n",
       "        6.00000e+00, 5.00000e+00, 8.00000e+00, 1.00000e+00, 2.00000e+00,\n",
       "        1.00000e+00, 2.00000e+00, 1.00000e+00, 0.00000e+00, 3.00000e+00,\n",
       "        0.00000e+00, 1.00000e+00, 1.00000e+00, 0.00000e+00, 0.00000e+00,\n",
       "        0.00000e+00, 0.00000e+00, 0.00000e+00, 0.00000e+00, 0.00000e+00,\n",
       "        0.00000e+00, 0.00000e+00, 0.00000e+00, 0.00000e+00, 0.00000e+00,\n",
       "        0.00000e+00, 0.00000e+00, 0.00000e+00, 0.00000e+00, 0.00000e+00,\n",
       "        0.00000e+00, 0.00000e+00, 0.00000e+00, 0.00000e+00, 0.00000e+00,\n",
       "        0.00000e+00, 0.00000e+00, 0.00000e+00, 0.00000e+00, 1.00000e+00]),\n",
       " array([-390.96368408, -383.11764526, -375.27157593, -367.42553711,\n",
       "        -359.57949829, -351.73342896, -343.88739014, -336.04135132,\n",
       "        -328.19528198, -320.34924316, -312.50320435, -304.65713501,\n",
       "        -296.81109619, -288.96505737, -281.11901855, -273.27294922,\n",
       "        -265.4269104 , -257.58087158, -249.73480225, -241.88876343,\n",
       "        -234.04270935, -226.19667053, -218.35061646, -210.50456238,\n",
       "        -202.65852356, -194.81246948, -186.96641541, -179.12037659,\n",
       "        -171.27432251, -163.42826843, -155.58222961, -147.73617554,\n",
       "        -139.89013672, -132.04408264, -124.19802856, -116.35198212,\n",
       "        -108.50593567, -100.65988922,  -92.81383514,  -84.9677887 ,\n",
       "         -77.12174225,  -69.2756958 ,  -61.42964172,  -53.58359528,\n",
       "         -45.73754501,  -37.89149857,  -30.0454483 ,  -22.19939995,\n",
       "         -14.35335159,   -6.50730324,    1.33874512,    9.18479347,\n",
       "          17.03084183,   24.87689018,   32.72293854,   40.5689888 ,\n",
       "          48.41503525,   56.26108551,   64.10713196,   71.95318604,\n",
       "          79.79923248,   87.64527893,   95.49132538,  103.33737946,\n",
       "         111.1834259 ,  119.02947235,  126.8755188 ,  134.72157288,\n",
       "         142.56762695,  150.41366577,  158.25971985,  166.10575867,\n",
       "         173.95181274,  181.79786682,  189.64390564,  197.48995972,\n",
       "         205.33601379,  213.18205261,  221.02810669,  228.87416077,\n",
       "         236.72019958,  244.56625366,  252.41229248,  260.25836182,\n",
       "         268.10440063,  275.95043945,  283.79650879,  291.64254761,\n",
       "         299.48858643,  307.33462524,  315.18069458,  323.0267334 ,\n",
       "         330.87277222,  338.71884155,  346.56488037,  354.41091919,\n",
       "         362.25698853,  370.10302734,  377.94906616,  385.7951355 ,\n",
       "         393.64117432]),\n",
       " <BarContainer object of 100 artists>)"
      ]
     },
     "execution_count": 6,
     "metadata": {},
     "output_type": "execute_result"
    },
    {
     "data": {
      "image/png": "[encoded data removed]",
      "text/plain": [
       "<Figure size 640x480 with 1 Axes>"
      ]
     },
     "metadata": {},
     "output_type": "display_data"
    }
   ],
   "source": [
    "import matplotlib.pyplot as plt\n",
    "\n",
    "plt.hist(encodings_real.flatten().cpu().detach().numpy(), bins=100)\n"
   ]
  },
  {
   "cell_type": "code",
   "execution_count": 7,
   "metadata": {},
   "outputs": [
    {
     "name": "stdout",
     "output_type": "stream",
     "text": [
      "torch.Size([1, 8, 128, 107])\n"
     ]
    }
   ],
   "source": [
    "# Create the generator\n",
    "num_workers = torch.cuda.device_count()\n",
    "netG = models.Generator(num_workers, channel_multiplier=3)\n",
    "netG = netG.to(config.DEVICE)\n",
    "\n",
    "# Handle multi-GPU if desired\n",
    "if num_workers > 1:\n",
    "    netG = nn.DataParallel(netG, list(range(num_workers)))\n",
    "\n",
    "# Apply the ``weights_init`` function to randomly initialize all weights\n",
    "#  to ``mean=0``, ``stdev=0.02``.\n",
    "netG.apply(models._weights_init)\n",
    "\n",
    "# apply the model to the fixed noise\n",
    "noise = torch.randn(\n",
    "    1, config.GENERATOR_INPUT_SIZE, 1, 1, device=config.DEVICE)\n",
    "fake = netG(noise)\n",
    "fake = fake.cpu().detach()\n",
    "# print the shape\n",
    "print(fake.shape)"
   ]
  },
  {
   "cell_type": "code",
   "execution_count": 8,
   "metadata": {},
   "outputs": [
    {
     "data": {
      "text/plain": [
       "(array([2.0000e+00, 0.0000e+00, 1.0000e+00, 1.0000e+00, 1.0000e+00,\n",
       "        0.0000e+00, 5.0000e+00, 2.0000e+00, 2.0000e+00, 8.0000e+00,\n",
       "        3.0000e+00, 6.0000e+00, 1.0000e+01, 1.1000e+01, 1.4000e+01,\n",
       "        1.7000e+01, 2.5000e+01, 3.5000e+01, 3.4000e+01, 3.7000e+01,\n",
       "        6.8000e+01, 5.6000e+01, 6.7000e+01, 8.6000e+01, 8.1000e+01,\n",
       "        1.2200e+02, 1.5800e+02, 1.7300e+02, 1.8100e+02, 2.2500e+02,\n",
       "        3.0400e+02, 3.4100e+02, 3.7800e+02, 4.7300e+02, 4.8900e+02,\n",
       "        5.8300e+02, 6.6800e+02, 7.4800e+02, 8.1200e+02, 9.7000e+02,\n",
       "        1.0980e+03, 1.1770e+03, 1.3440e+03, 1.4490e+03, 1.6560e+03,\n",
       "        1.7790e+03, 1.9240e+03, 2.1000e+03, 2.2630e+03, 2.4050e+03,\n",
       "        2.4550e+03, 5.7585e+04, 2.4050e+03, 2.3600e+03, 2.1190e+03,\n",
       "        1.9950e+03, 1.8420e+03, 1.6990e+03, 1.5220e+03, 1.4050e+03,\n",
       "        1.2740e+03, 1.0510e+03, 1.0140e+03, 8.7500e+02, 7.7800e+02,\n",
       "        7.1500e+02, 6.1200e+02, 5.0300e+02, 4.4100e+02, 3.9700e+02,\n",
       "        3.5800e+02, 3.0100e+02, 2.2900e+02, 2.0100e+02, 1.8300e+02,\n",
       "        1.4800e+02, 1.2200e+02, 1.3400e+02, 9.3000e+01, 5.1000e+01,\n",
       "        5.0000e+01, 4.6000e+01, 4.8000e+01, 3.8000e+01, 3.0000e+01,\n",
       "        2.3000e+01, 1.3000e+01, 1.1000e+01, 1.1000e+01, 1.0000e+01,\n",
       "        9.0000e+00, 5.0000e+00, 4.0000e+00, 2.0000e+00, 2.0000e+00,\n",
       "        0.0000e+00, 0.0000e+00, 1.0000e+00, 2.0000e+00, 4.0000e+00]),\n",
       " array([-9.63955212, -9.45103264, -9.26251411, -9.07399464, -8.88547611,\n",
       "        -8.69695663, -8.50843811, -8.31991863, -8.13140011, -7.94288063,\n",
       "        -7.75436163, -7.56584263, -7.37732363, -7.18880463, -7.00028563,\n",
       "        -6.81176662, -6.62324762, -6.43472862, -6.24620962, -6.05769062,\n",
       "        -5.86917162, -5.68065262, -5.49213362, -5.30361462, -5.11509562,\n",
       "        -4.92657661, -4.73805714, -4.54953814, -4.36101913, -4.17250013,\n",
       "        -3.98398113, -3.79546213, -3.60694313, -3.41842413, -3.22990513,\n",
       "        -3.04138613, -2.85286713, -2.66434813, -2.47582889, -2.28730989,\n",
       "        -2.09879088, -1.91027188, -1.72175288, -1.53323388, -1.34471476,\n",
       "        -1.15619576, -0.96767676, -0.7791577 , -0.5906387 , -0.40211967,\n",
       "        -0.21360064, -0.02508161,  0.16343743,  0.35195646,  0.54047549,\n",
       "         0.72899449,  0.91751355,  1.10603261,  1.29455161,  1.48307061,\n",
       "         1.67158961,  1.86010873,  2.04862761,  2.23714685,  2.42566586,\n",
       "         2.61418486,  2.80270386,  2.99122286,  3.17974186,  3.36826086,\n",
       "         3.55677986,  3.7452991 ,  3.9338181 ,  4.12233686,  4.31085587,\n",
       "         4.49937534,  4.68789434,  4.87641335,  5.06493235,  5.25345135,\n",
       "         5.44197035,  5.63048935,  5.81900835,  6.00752735,  6.19604635,\n",
       "         6.38456535,  6.57308435,  6.76160336,  6.95012236,  7.13864136,\n",
       "         7.32716036,  7.51567936,  7.70419884,  7.89271784,  8.08123684,\n",
       "         8.26975536,  8.45827484,  8.64679337,  8.83531284,  9.02383137,\n",
       "         9.21235085]),\n",
       " <BarContainer object of 100 artists>)"
      ]
     },
     "execution_count": 8,
     "metadata": {},
     "output_type": "execute_result"
    },
    {
     "data": {
      "image/png": "[encoded data removed]",
      "text/plain": [
       "<Figure size 640x480 with 1 Axes>"
      ]
     },
     "metadata": {},
     "output_type": "display_data"
    }
   ],
   "source": [
    "# show histogram of values of fake\n",
    "plt.hist(fake.flatten().cpu().detach().numpy(), bins=100)\n"
   ]
  },
  {
   "cell_type": "code",
   "execution_count": 6,
   "metadata": {},
   "outputs": [
    {
     "name": "stdout",
     "output_type": "stream",
     "text": [
      "----------------------------------------------------------------\n",
      "        Layer (type)               Output Shape         Param #\n",
      "================================================================\n",
      "            Conv2d-1            [1, 64, 64, 54]           4,608\n",
      "       BatchNorm2d-2            [1, 64, 64, 54]             128\n",
      "         LeakyReLU-3            [1, 64, 64, 54]               0\n",
      "            Conv2d-4           [1, 128, 32, 27]          73,728\n",
      "       BatchNorm2d-5           [1, 128, 32, 27]             256\n",
      "         LeakyReLU-6           [1, 128, 32, 27]               0\n",
      "            Conv2d-7           [1, 256, 16, 14]         294,912\n",
      "       BatchNorm2d-8           [1, 256, 16, 14]             512\n",
      "         LeakyReLU-9           [1, 256, 16, 14]               0\n",
      "           Conv2d-10               [1, 1, 8, 7]           2,304\n",
      "          Sigmoid-11               [1, 1, 8, 7]               0\n",
      "          Flatten-12                    [1, 56]               0\n",
      "           Linear-13                     [1, 1]              57\n",
      "          Sigmoid-14                     [1, 1]               0\n",
      "================================================================\n",
      "Total params: 376,505\n",
      "Trainable params: 376,505\n",
      "Non-trainable params: 0\n",
      "----------------------------------------------------------------\n",
      "Input size (MB): 0.42\n",
      "Forward/backward pass size (MB): 8.91\n",
      "Params size (MB): 1.44\n",
      "Estimated Total Size (MB): 10.76\n",
      "----------------------------------------------------------------\n",
      "Number of trainable parameters: 376505\n"
     ]
    }
   ],
   "source": [
    "# now, the summary of the netd\n",
    "# Create the Discriminator\n",
    "netD = models.Discriminator(ngpu).to(config.DEVICE)\n",
    "\n",
    "# Handle multi-GPU if desired\n",
    "if (ngpu > 1):\n",
    "    netD = nn.DataParallel(netD, list(range(ngpu)))\n",
    "\n",
    "# Apply the ``weights_init`` function to randomly initialize all weights\n",
    "# like this: ``to mean=0, stdev=0.2``.\n",
    "netD.apply(models._weights_init)\n",
    "\n",
    "# Print the model\n",
    "summary(netD, (8, 128, 107), 1)\n",
    "print(f\"Number of trainable parameters: {sum(p.numel() for p in netD.parameters() if p.requires_grad)}\")"
   ]
  },
  {
   "cell_type": "code",
   "execution_count": 7,
   "metadata": {},
   "outputs": [
    {
     "ename": "RuntimeError",
     "evalue": "mat1 and mat2 shapes cannot be multiplied (16x14 and 56x1)",
     "output_type": "error",
     "traceback": [
      "\u001b[0;31m---------------------------------------------------------------------------\u001b[0m",
      "\u001b[0;31mRuntimeError\u001b[0m                              Traceback (most recent call last)",
      "Cell \u001b[0;32mIn[7], line 2\u001b[0m\n\u001b[1;32m      1\u001b[0m \u001b[39m# run the real and fake data through the discriminator\u001b[39;00m\n\u001b[0;32m----> 2\u001b[0m real_result \u001b[39m=\u001b[39m netD(encodings_real)\n\u001b[1;32m      3\u001b[0m fake_result \u001b[39m=\u001b[39m netD(fake)\n\u001b[1;32m      5\u001b[0m \u001b[39m# print the results\u001b[39;00m\n",
      "File \u001b[0;32m~/.local/lib/python3.8/site-packages/torch/nn/modules/module.py:1501\u001b[0m, in \u001b[0;36mModule._call_impl\u001b[0;34m(self, *args, **kwargs)\u001b[0m\n\u001b[1;32m   1496\u001b[0m \u001b[39m# If we don't have any hooks, we want to skip the rest of the logic in\u001b[39;00m\n\u001b[1;32m   1497\u001b[0m \u001b[39m# this function, and just call forward.\u001b[39;00m\n\u001b[1;32m   1498\u001b[0m \u001b[39mif\u001b[39;00m \u001b[39mnot\u001b[39;00m (\u001b[39mself\u001b[39m\u001b[39m.\u001b[39m_backward_hooks \u001b[39mor\u001b[39;00m \u001b[39mself\u001b[39m\u001b[39m.\u001b[39m_backward_pre_hooks \u001b[39mor\u001b[39;00m \u001b[39mself\u001b[39m\u001b[39m.\u001b[39m_forward_hooks \u001b[39mor\u001b[39;00m \u001b[39mself\u001b[39m\u001b[39m.\u001b[39m_forward_pre_hooks\n\u001b[1;32m   1499\u001b[0m         \u001b[39mor\u001b[39;00m _global_backward_pre_hooks \u001b[39mor\u001b[39;00m _global_backward_hooks\n\u001b[1;32m   1500\u001b[0m         \u001b[39mor\u001b[39;00m _global_forward_hooks \u001b[39mor\u001b[39;00m _global_forward_pre_hooks):\n\u001b[0;32m-> 1501\u001b[0m     \u001b[39mreturn\u001b[39;00m forward_call(\u001b[39m*\u001b[39;49margs, \u001b[39m*\u001b[39;49m\u001b[39m*\u001b[39;49mkwargs)\n\u001b[1;32m   1502\u001b[0m \u001b[39m# Do not call functions when jit is used\u001b[39;00m\n\u001b[1;32m   1503\u001b[0m full_backward_hooks, non_full_backward_hooks \u001b[39m=\u001b[39m [], []\n",
      "File \u001b[0;32m~/FEUP-Synthesizing-Audio-from-Textual-Input/notebooks/ganmix/notebooks/../models.py:108\u001b[0m, in \u001b[0;36mDiscriminator.forward\u001b[0;34m(self, input)\u001b[0m\n\u001b[1;32m    103\u001b[0m \u001b[39mdef\u001b[39;00m \u001b[39mforward\u001b[39m(\u001b[39mself\u001b[39m, \u001b[39minput\u001b[39m):\n\u001b[1;32m    104\u001b[0m     \u001b[39m# Put input tensor on GPU if available\u001b[39;00m\n\u001b[1;32m    105\u001b[0m     \u001b[39m#input = input.to(config.DEVICE)\u001b[39;00m\n\u001b[1;32m    106\u001b[0m     \n\u001b[1;32m    107\u001b[0m     \u001b[39m# Pass the input through the Discriminator's layers\u001b[39;00m\n\u001b[0;32m--> 108\u001b[0m     \u001b[39minput\u001b[39m \u001b[39m=\u001b[39m \u001b[39mself\u001b[39;49m\u001b[39m.\u001b[39;49mfeatures(\u001b[39minput\u001b[39;49m)\n\u001b[1;32m    110\u001b[0m     \u001b[39mreturn\u001b[39;00m \u001b[39minput\u001b[39m\n",
      "File \u001b[0;32m~/.local/lib/python3.8/site-packages/torch/nn/modules/module.py:1501\u001b[0m, in \u001b[0;36mModule._call_impl\u001b[0;34m(self, *args, **kwargs)\u001b[0m\n\u001b[1;32m   1496\u001b[0m \u001b[39m# If we don't have any hooks, we want to skip the rest of the logic in\u001b[39;00m\n\u001b[1;32m   1497\u001b[0m \u001b[39m# this function, and just call forward.\u001b[39;00m\n\u001b[1;32m   1498\u001b[0m \u001b[39mif\u001b[39;00m \u001b[39mnot\u001b[39;00m (\u001b[39mself\u001b[39m\u001b[39m.\u001b[39m_backward_hooks \u001b[39mor\u001b[39;00m \u001b[39mself\u001b[39m\u001b[39m.\u001b[39m_backward_pre_hooks \u001b[39mor\u001b[39;00m \u001b[39mself\u001b[39m\u001b[39m.\u001b[39m_forward_hooks \u001b[39mor\u001b[39;00m \u001b[39mself\u001b[39m\u001b[39m.\u001b[39m_forward_pre_hooks\n\u001b[1;32m   1499\u001b[0m         \u001b[39mor\u001b[39;00m _global_backward_pre_hooks \u001b[39mor\u001b[39;00m _global_backward_hooks\n\u001b[1;32m   1500\u001b[0m         \u001b[39mor\u001b[39;00m _global_forward_hooks \u001b[39mor\u001b[39;00m _global_forward_pre_hooks):\n\u001b[0;32m-> 1501\u001b[0m     \u001b[39mreturn\u001b[39;00m forward_call(\u001b[39m*\u001b[39;49margs, \u001b[39m*\u001b[39;49m\u001b[39m*\u001b[39;49mkwargs)\n\u001b[1;32m   1502\u001b[0m \u001b[39m# Do not call functions when jit is used\u001b[39;00m\n\u001b[1;32m   1503\u001b[0m full_backward_hooks, non_full_backward_hooks \u001b[39m=\u001b[39m [], []\n",
      "File \u001b[0;32m~/.local/lib/python3.8/site-packages/torch/nn/modules/container.py:217\u001b[0m, in \u001b[0;36mSequential.forward\u001b[0;34m(self, input)\u001b[0m\n\u001b[1;32m    215\u001b[0m \u001b[39mdef\u001b[39;00m \u001b[39mforward\u001b[39m(\u001b[39mself\u001b[39m, \u001b[39minput\u001b[39m):\n\u001b[1;32m    216\u001b[0m     \u001b[39mfor\u001b[39;00m module \u001b[39min\u001b[39;00m \u001b[39mself\u001b[39m:\n\u001b[0;32m--> 217\u001b[0m         \u001b[39minput\u001b[39m \u001b[39m=\u001b[39m module(\u001b[39minput\u001b[39;49m)\n\u001b[1;32m    218\u001b[0m     \u001b[39mreturn\u001b[39;00m \u001b[39minput\u001b[39m\n",
      "File \u001b[0;32m~/.local/lib/python3.8/site-packages/torch/nn/modules/module.py:1501\u001b[0m, in \u001b[0;36mModule._call_impl\u001b[0;34m(self, *args, **kwargs)\u001b[0m\n\u001b[1;32m   1496\u001b[0m \u001b[39m# If we don't have any hooks, we want to skip the rest of the logic in\u001b[39;00m\n\u001b[1;32m   1497\u001b[0m \u001b[39m# this function, and just call forward.\u001b[39;00m\n\u001b[1;32m   1498\u001b[0m \u001b[39mif\u001b[39;00m \u001b[39mnot\u001b[39;00m (\u001b[39mself\u001b[39m\u001b[39m.\u001b[39m_backward_hooks \u001b[39mor\u001b[39;00m \u001b[39mself\u001b[39m\u001b[39m.\u001b[39m_backward_pre_hooks \u001b[39mor\u001b[39;00m \u001b[39mself\u001b[39m\u001b[39m.\u001b[39m_forward_hooks \u001b[39mor\u001b[39;00m \u001b[39mself\u001b[39m\u001b[39m.\u001b[39m_forward_pre_hooks\n\u001b[1;32m   1499\u001b[0m         \u001b[39mor\u001b[39;00m _global_backward_pre_hooks \u001b[39mor\u001b[39;00m _global_backward_hooks\n\u001b[1;32m   1500\u001b[0m         \u001b[39mor\u001b[39;00m _global_forward_hooks \u001b[39mor\u001b[39;00m _global_forward_pre_hooks):\n\u001b[0;32m-> 1501\u001b[0m     \u001b[39mreturn\u001b[39;00m forward_call(\u001b[39m*\u001b[39;49margs, \u001b[39m*\u001b[39;49m\u001b[39m*\u001b[39;49mkwargs)\n\u001b[1;32m   1502\u001b[0m \u001b[39m# Do not call functions when jit is used\u001b[39;00m\n\u001b[1;32m   1503\u001b[0m full_backward_hooks, non_full_backward_hooks \u001b[39m=\u001b[39m [], []\n",
      "File \u001b[0;32m~/.local/lib/python3.8/site-packages/torch/nn/modules/linear.py:114\u001b[0m, in \u001b[0;36mLinear.forward\u001b[0;34m(self, input)\u001b[0m\n\u001b[1;32m    113\u001b[0m \u001b[39mdef\u001b[39;00m \u001b[39mforward\u001b[39m(\u001b[39mself\u001b[39m, \u001b[39minput\u001b[39m: Tensor) \u001b[39m-\u001b[39m\u001b[39m>\u001b[39m Tensor:\n\u001b[0;32m--> 114\u001b[0m     \u001b[39mreturn\u001b[39;00m F\u001b[39m.\u001b[39;49mlinear(\u001b[39minput\u001b[39;49m, \u001b[39mself\u001b[39;49m\u001b[39m.\u001b[39;49mweight, \u001b[39mself\u001b[39;49m\u001b[39m.\u001b[39;49mbias)\n",
      "\u001b[0;31mRuntimeError\u001b[0m: mat1 and mat2 shapes cannot be multiplied (16x14 and 56x1)"
     ]
    }
   ],
   "source": [
    "# run the real and fake data through the discriminator\n",
    "real_result = netD(encodings_real)\n",
    "fake_result = netD(fake)\n",
    "\n",
    "# print the results\n",
    "print(f\"Real result: {real_result}\")\n",
    "print(f\"Fake result: {fake_result}\")"
   ]
  },
  {
   "cell_type": "code",
   "execution_count": null,
   "metadata": {},
   "outputs": [],
   "source": []
  }
 ],
 "metadata": {
  "kernelspec": {
   "display_name": "Python 3",
   "language": "python",
   "name": "python3"
  },
  "language_info": {
   "codemirror_mode": {
    "name": "ipython",
    "version": 3
   },
   "file_extension": ".py",
   "mimetype": "text/x-python",
   "name": "python",
   "nbconvert_exporter": "python",
   "pygments_lexer": "ipython3",
   "version": "3.8.10"
  },
  "orig_nbformat": 4
 },
 "nbformat": 4,
 "nbformat_minor": 2
}
